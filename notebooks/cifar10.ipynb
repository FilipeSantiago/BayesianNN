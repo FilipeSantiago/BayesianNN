{
 "cells": [
  {
   "cell_type": "code",
   "execution_count": 16,
   "metadata": {},
   "outputs": [],
   "source": [
    "import os\n",
    "import random\n",
    "\n",
    "import tensorflow as tf\n",
    "from tensorflow.keras import layers, Sequential\n",
    "from tensorflow.keras.models import Model\n",
    "\n",
    "import pandas as pd\n",
    "import numpy as np\n",
    "from tqdm import tqdm\n",
    "from sklearn.preprocessing import OneHotEncoder\n",
    "\n",
    "import matplotlib.pyplot as plt\n",
    "from sklearn.metrics import accuracy_score\n",
    "\n",
    "gpus = tf.config.experimental.list_physical_devices('GPU')\n",
    "for gpu in gpus:\n",
    "  tf.config.experimental.set_memory_growth(gpu, True)\n"
   ]
  },
  {
   "cell_type": "code",
   "execution_count": 17,
   "metadata": {},
   "outputs": [],
   "source": [
    "train_folder = \"/home/fsantiago/projects/medium/datasets/cifar-10/train\"\n",
    "train_labels = \"/home/fsantiago/projects/medium/datasets/cifar-10/trainLabels.csv\""
   ]
  },
  {
   "cell_type": "code",
   "execution_count": 18,
   "metadata": {},
   "outputs": [],
   "source": [
    "labels_df = pd.read_csv(train_labels, index_col=\"id\")\n",
    "one_hot = OneHotEncoder().fit(labels_df[[\"label\"]])\n",
    "one_hot_labels = OneHotEncoder().fit_transform(labels_df[[\"label\"]]).toarray()"
   ]
  },
  {
   "cell_type": "code",
   "execution_count": 19,
   "metadata": {},
   "outputs": [],
   "source": [
    "def get_y(file):\n",
    "    file_idx = int(file.replace(\".png\", \"\")) - 1\n",
    "\n",
    "    return one_hot_labels[file_idx]"
   ]
  },
  {
   "cell_type": "code",
   "execution_count": 20,
   "metadata": {},
   "outputs": [],
   "source": [
    "files = os.listdir(train_folder)\n",
    "files_batch = files.copy()"
   ]
  },
  {
   "cell_type": "code",
   "execution_count": 21,
   "metadata": {},
   "outputs": [],
   "source": [
    "train_size = 30000\n",
    "validation_size = 10000\n",
    "test_size = 10000"
   ]
  },
  {
   "cell_type": "code",
   "execution_count": 22,
   "metadata": {},
   "outputs": [],
   "source": [
    "train_files = os.listdir(train_folder)[:train_size]\n",
    "val_files = os.listdir(train_folder)[train_size:(train_size+validation_size)]\n",
    "test_files = os.listdir(train_folder)[(train_size+validation_size):(train_size+validation_size+test_size)]"
   ]
  },
  {
   "cell_type": "code",
   "execution_count": 23,
   "metadata": {},
   "outputs": [
    {
     "ename": "KeyboardInterrupt",
     "evalue": "",
     "output_type": "error",
     "traceback": [
      "\u001b[0;31m---------------------------------------------------------------------------\u001b[0m",
      "\u001b[0;31mKeyboardInterrupt\u001b[0m                         Traceback (most recent call last)",
      "\u001b[1;32m/home/fsantiago/projects/medium/bayesiandropout/notebooks/cifar10.ipynb Cell 8'\u001b[0m in \u001b[0;36m<cell line: 1>\u001b[0;34m()\u001b[0m\n\u001b[0;32m----> <a href='vscode-notebook-cell:/home/fsantiago/projects/medium/bayesiandropout/notebooks/cifar10.ipynb#ch0000007?line=0'>1</a>\u001b[0m train_X \u001b[39m=\u001b[39m [plt\u001b[39m.\u001b[39mimread(\u001b[39mf\u001b[39m\u001b[39m\"\u001b[39m\u001b[39m{\u001b[39;00mtrain_folder\u001b[39m}\u001b[39;00m\u001b[39m/\u001b[39m\u001b[39m{\u001b[39;00mfile\u001b[39m}\u001b[39;00m\u001b[39m\"\u001b[39m) \u001b[39mfor\u001b[39;00m file \u001b[39min\u001b[39;00m train_files]\n\u001b[1;32m      <a href='vscode-notebook-cell:/home/fsantiago/projects/medium/bayesiandropout/notebooks/cifar10.ipynb#ch0000007?line=1'>2</a>\u001b[0m train_y \u001b[39m=\u001b[39m [get_y(file) \u001b[39mfor\u001b[39;00m file \u001b[39min\u001b[39;00m train_files]\n\u001b[1;32m      <a href='vscode-notebook-cell:/home/fsantiago/projects/medium/bayesiandropout/notebooks/cifar10.ipynb#ch0000007?line=3'>4</a>\u001b[0m validation_X \u001b[39m=\u001b[39m [plt\u001b[39m.\u001b[39mimread(\u001b[39mf\u001b[39m\u001b[39m\"\u001b[39m\u001b[39m{\u001b[39;00mtrain_folder\u001b[39m}\u001b[39;00m\u001b[39m/\u001b[39m\u001b[39m{\u001b[39;00mfile\u001b[39m}\u001b[39;00m\u001b[39m\"\u001b[39m) \u001b[39mfor\u001b[39;00m file \u001b[39min\u001b[39;00m val_files]\n",
      "\u001b[1;32m/home/fsantiago/projects/medium/bayesiandropout/notebooks/cifar10.ipynb Cell 8'\u001b[0m in \u001b[0;36m<listcomp>\u001b[0;34m(.0)\u001b[0m\n\u001b[0;32m----> <a href='vscode-notebook-cell:/home/fsantiago/projects/medium/bayesiandropout/notebooks/cifar10.ipynb#ch0000007?line=0'>1</a>\u001b[0m train_X \u001b[39m=\u001b[39m [plt\u001b[39m.\u001b[39;49mimread(\u001b[39mf\u001b[39;49m\u001b[39m\"\u001b[39;49m\u001b[39m{\u001b[39;49;00mtrain_folder\u001b[39m}\u001b[39;49;00m\u001b[39m/\u001b[39;49m\u001b[39m{\u001b[39;49;00mfile\u001b[39m}\u001b[39;49;00m\u001b[39m\"\u001b[39;49m) \u001b[39mfor\u001b[39;00m file \u001b[39min\u001b[39;00m train_files]\n\u001b[1;32m      <a href='vscode-notebook-cell:/home/fsantiago/projects/medium/bayesiandropout/notebooks/cifar10.ipynb#ch0000007?line=1'>2</a>\u001b[0m train_y \u001b[39m=\u001b[39m [get_y(file) \u001b[39mfor\u001b[39;00m file \u001b[39min\u001b[39;00m train_files]\n\u001b[1;32m      <a href='vscode-notebook-cell:/home/fsantiago/projects/medium/bayesiandropout/notebooks/cifar10.ipynb#ch0000007?line=3'>4</a>\u001b[0m validation_X \u001b[39m=\u001b[39m [plt\u001b[39m.\u001b[39mimread(\u001b[39mf\u001b[39m\u001b[39m\"\u001b[39m\u001b[39m{\u001b[39;00mtrain_folder\u001b[39m}\u001b[39;00m\u001b[39m/\u001b[39m\u001b[39m{\u001b[39;00mfile\u001b[39m}\u001b[39;00m\u001b[39m\"\u001b[39m) \u001b[39mfor\u001b[39;00m file \u001b[39min\u001b[39;00m val_files]\n",
      "File \u001b[0;32m~/projects/medium/bayesiandropout/venv/lib/python3.9/site-packages/matplotlib/pyplot.py:2139\u001b[0m, in \u001b[0;36mimread\u001b[0;34m(fname, format)\u001b[0m\n\u001b[1;32m   <a href='file:///home/fsantiago/projects/medium/bayesiandropout/venv/lib/python3.9/site-packages/matplotlib/pyplot.py?line=2136'>2137</a>\u001b[0m \u001b[39m@_copy_docstring_and_deprecators\u001b[39m(matplotlib\u001b[39m.\u001b[39mimage\u001b[39m.\u001b[39mimread)\n\u001b[1;32m   <a href='file:///home/fsantiago/projects/medium/bayesiandropout/venv/lib/python3.9/site-packages/matplotlib/pyplot.py?line=2137'>2138</a>\u001b[0m \u001b[39mdef\u001b[39;00m \u001b[39mimread\u001b[39m(fname, \u001b[39mformat\u001b[39m\u001b[39m=\u001b[39m\u001b[39mNone\u001b[39;00m):\n\u001b[0;32m-> <a href='file:///home/fsantiago/projects/medium/bayesiandropout/venv/lib/python3.9/site-packages/matplotlib/pyplot.py?line=2138'>2139</a>\u001b[0m     \u001b[39mreturn\u001b[39;00m matplotlib\u001b[39m.\u001b[39;49mimage\u001b[39m.\u001b[39;49mimread(fname, \u001b[39mformat\u001b[39;49m)\n",
      "File \u001b[0;32m~/projects/medium/bayesiandropout/venv/lib/python3.9/site-packages/matplotlib/image.py:1561\u001b[0m, in \u001b[0;36mimread\u001b[0;34m(fname, format)\u001b[0m\n\u001b[1;32m   <a href='file:///home/fsantiago/projects/medium/bayesiandropout/venv/lib/python3.9/site-packages/matplotlib/image.py?line=1558'>1559</a>\u001b[0m             \u001b[39mreturn\u001b[39;00m imread(response, \u001b[39mformat\u001b[39m\u001b[39m=\u001b[39mext)\n\u001b[1;32m   <a href='file:///home/fsantiago/projects/medium/bayesiandropout/venv/lib/python3.9/site-packages/matplotlib/image.py?line=1559'>1560</a>\u001b[0m \u001b[39mwith\u001b[39;00m img_open(fname) \u001b[39mas\u001b[39;00m image:\n\u001b[0;32m-> <a href='file:///home/fsantiago/projects/medium/bayesiandropout/venv/lib/python3.9/site-packages/matplotlib/image.py?line=1560'>1561</a>\u001b[0m     \u001b[39mreturn\u001b[39;00m (_pil_png_to_float_array(image)\n\u001b[1;32m   <a href='file:///home/fsantiago/projects/medium/bayesiandropout/venv/lib/python3.9/site-packages/matplotlib/image.py?line=1561'>1562</a>\u001b[0m             \u001b[39mif\u001b[39;00m \u001b[39misinstance\u001b[39m(image, PIL\u001b[39m.\u001b[39mPngImagePlugin\u001b[39m.\u001b[39mPngImageFile) \u001b[39melse\u001b[39;00m\n\u001b[1;32m   <a href='file:///home/fsantiago/projects/medium/bayesiandropout/venv/lib/python3.9/site-packages/matplotlib/image.py?line=1562'>1563</a>\u001b[0m             pil_to_array(image))\n",
      "File \u001b[0;32m~/projects/medium/bayesiandropout/venv/lib/python3.9/site-packages/matplotlib/image.py:1733\u001b[0m, in \u001b[0;36m_pil_png_to_float_array\u001b[0;34m(pil_png)\u001b[0m\n\u001b[1;32m   <a href='file:///home/fsantiago/projects/medium/bayesiandropout/venv/lib/python3.9/site-packages/matplotlib/image.py?line=1730'>1731</a>\u001b[0m     \u001b[39mreturn\u001b[39;00m np\u001b[39m.\u001b[39mdivide(pil_png, \u001b[39m2\u001b[39m\u001b[39m*\u001b[39m\u001b[39m*\u001b[39m\u001b[39m16\u001b[39m \u001b[39m-\u001b[39m \u001b[39m1\u001b[39m, dtype\u001b[39m=\u001b[39mnp\u001b[39m.\u001b[39mfloat32)\n\u001b[1;32m   <a href='file:///home/fsantiago/projects/medium/bayesiandropout/venv/lib/python3.9/site-packages/matplotlib/image.py?line=1731'>1732</a>\u001b[0m \u001b[39mif\u001b[39;00m mode \u001b[39m==\u001b[39m \u001b[39m\"\u001b[39m\u001b[39mRGB\u001b[39m\u001b[39m\"\u001b[39m:  \u001b[39m# RGB.\u001b[39;00m\n\u001b[0;32m-> <a href='file:///home/fsantiago/projects/medium/bayesiandropout/venv/lib/python3.9/site-packages/matplotlib/image.py?line=1732'>1733</a>\u001b[0m     \u001b[39mreturn\u001b[39;00m np\u001b[39m.\u001b[39;49mdivide(pil_png, \u001b[39m2\u001b[39;49m\u001b[39m*\u001b[39;49m\u001b[39m*\u001b[39;49m\u001b[39m8\u001b[39;49m \u001b[39m-\u001b[39;49m \u001b[39m1\u001b[39;49m, dtype\u001b[39m=\u001b[39;49mnp\u001b[39m.\u001b[39;49mfloat32)\n\u001b[1;32m   <a href='file:///home/fsantiago/projects/medium/bayesiandropout/venv/lib/python3.9/site-packages/matplotlib/image.py?line=1733'>1734</a>\u001b[0m \u001b[39mif\u001b[39;00m mode \u001b[39m==\u001b[39m \u001b[39m\"\u001b[39m\u001b[39mP\u001b[39m\u001b[39m\"\u001b[39m:  \u001b[39m# Palette.\u001b[39;00m\n\u001b[1;32m   <a href='file:///home/fsantiago/projects/medium/bayesiandropout/venv/lib/python3.9/site-packages/matplotlib/image.py?line=1734'>1735</a>\u001b[0m     \u001b[39mreturn\u001b[39;00m np\u001b[39m.\u001b[39mdivide(pil_png\u001b[39m.\u001b[39mconvert(\u001b[39m\"\u001b[39m\u001b[39mRGBA\u001b[39m\u001b[39m\"\u001b[39m), \u001b[39m2\u001b[39m\u001b[39m*\u001b[39m\u001b[39m*\u001b[39m\u001b[39m8\u001b[39m \u001b[39m-\u001b[39m \u001b[39m1\u001b[39m, dtype\u001b[39m=\u001b[39mnp\u001b[39m.\u001b[39mfloat32)\n",
      "File \u001b[0;32m~/projects/medium/bayesiandropout/venv/lib/python3.9/site-packages/PIL/Image.py:675\u001b[0m, in \u001b[0;36mImage.__array__\u001b[0;34m(self, dtype)\u001b[0m\n\u001b[1;32m    <a href='file:///home/fsantiago/projects/medium/bayesiandropout/venv/lib/python3.9/site-packages/PIL/Image.py?line=672'>673</a>\u001b[0m     new[\u001b[39m\"\u001b[39m\u001b[39mdata\u001b[39m\u001b[39m\"\u001b[39m] \u001b[39m=\u001b[39m \u001b[39mself\u001b[39m\u001b[39m.\u001b[39mtobytes(\u001b[39m\"\u001b[39m\u001b[39mraw\u001b[39m\u001b[39m\"\u001b[39m, \u001b[39m\"\u001b[39m\u001b[39mL\u001b[39m\u001b[39m\"\u001b[39m)\n\u001b[1;32m    <a href='file:///home/fsantiago/projects/medium/bayesiandropout/venv/lib/python3.9/site-packages/PIL/Image.py?line=673'>674</a>\u001b[0m \u001b[39melse\u001b[39;00m:\n\u001b[0;32m--> <a href='file:///home/fsantiago/projects/medium/bayesiandropout/venv/lib/python3.9/site-packages/PIL/Image.py?line=674'>675</a>\u001b[0m     new[\u001b[39m\"\u001b[39m\u001b[39mdata\u001b[39m\u001b[39m\"\u001b[39m] \u001b[39m=\u001b[39m \u001b[39mself\u001b[39;49m\u001b[39m.\u001b[39;49mtobytes()\n\u001b[1;32m    <a href='file:///home/fsantiago/projects/medium/bayesiandropout/venv/lib/python3.9/site-packages/PIL/Image.py?line=676'>677</a>\u001b[0m \u001b[39mreturn\u001b[39;00m np\u001b[39m.\u001b[39marray(\u001b[39mself\u001b[39m\u001b[39m.\u001b[39m_ArrayData(new), dtype)\n",
      "File \u001b[0;32m~/projects/medium/bayesiandropout/venv/lib/python3.9/site-packages/PIL/Image.py:718\u001b[0m, in \u001b[0;36mImage.tobytes\u001b[0;34m(self, encoder_name, *args)\u001b[0m\n\u001b[1;32m    <a href='file:///home/fsantiago/projects/medium/bayesiandropout/venv/lib/python3.9/site-packages/PIL/Image.py?line=714'>715</a>\u001b[0m \u001b[39mif\u001b[39;00m encoder_name \u001b[39m==\u001b[39m \u001b[39m\"\u001b[39m\u001b[39mraw\u001b[39m\u001b[39m\"\u001b[39m \u001b[39mand\u001b[39;00m args \u001b[39m==\u001b[39m ():\n\u001b[1;32m    <a href='file:///home/fsantiago/projects/medium/bayesiandropout/venv/lib/python3.9/site-packages/PIL/Image.py?line=715'>716</a>\u001b[0m     args \u001b[39m=\u001b[39m \u001b[39mself\u001b[39m\u001b[39m.\u001b[39mmode\n\u001b[0;32m--> <a href='file:///home/fsantiago/projects/medium/bayesiandropout/venv/lib/python3.9/site-packages/PIL/Image.py?line=717'>718</a>\u001b[0m \u001b[39mself\u001b[39;49m\u001b[39m.\u001b[39;49mload()\n\u001b[1;32m    <a href='file:///home/fsantiago/projects/medium/bayesiandropout/venv/lib/python3.9/site-packages/PIL/Image.py?line=719'>720</a>\u001b[0m \u001b[39m# unpack data\u001b[39;00m\n\u001b[1;32m    <a href='file:///home/fsantiago/projects/medium/bayesiandropout/venv/lib/python3.9/site-packages/PIL/Image.py?line=720'>721</a>\u001b[0m e \u001b[39m=\u001b[39m _getencoder(\u001b[39mself\u001b[39m\u001b[39m.\u001b[39mmode, encoder_name, args)\n",
      "File \u001b[0;32m~/projects/medium/bayesiandropout/venv/lib/python3.9/site-packages/PIL/ImageFile.py:253\u001b[0m, in \u001b[0;36mImageFile.load\u001b[0;34m(self)\u001b[0m\n\u001b[1;32m    <a href='file:///home/fsantiago/projects/medium/bayesiandropout/venv/lib/python3.9/site-packages/PIL/ImageFile.py?line=246'>247</a>\u001b[0m         \u001b[39mraise\u001b[39;00m \u001b[39mOSError\u001b[39;00m(\n\u001b[1;32m    <a href='file:///home/fsantiago/projects/medium/bayesiandropout/venv/lib/python3.9/site-packages/PIL/ImageFile.py?line=247'>248</a>\u001b[0m             \u001b[39m\"\u001b[39m\u001b[39mimage file is truncated \u001b[39m\u001b[39m\"\u001b[39m\n\u001b[1;32m    <a href='file:///home/fsantiago/projects/medium/bayesiandropout/venv/lib/python3.9/site-packages/PIL/ImageFile.py?line=248'>249</a>\u001b[0m             \u001b[39mf\u001b[39m\u001b[39m\"\u001b[39m\u001b[39m(\u001b[39m\u001b[39m{\u001b[39;00m\u001b[39mlen\u001b[39m(b)\u001b[39m}\u001b[39;00m\u001b[39m bytes not processed)\u001b[39m\u001b[39m\"\u001b[39m\n\u001b[1;32m    <a href='file:///home/fsantiago/projects/medium/bayesiandropout/venv/lib/python3.9/site-packages/PIL/ImageFile.py?line=249'>250</a>\u001b[0m         )\n\u001b[1;32m    <a href='file:///home/fsantiago/projects/medium/bayesiandropout/venv/lib/python3.9/site-packages/PIL/ImageFile.py?line=251'>252</a>\u001b[0m b \u001b[39m=\u001b[39m b \u001b[39m+\u001b[39m s\n\u001b[0;32m--> <a href='file:///home/fsantiago/projects/medium/bayesiandropout/venv/lib/python3.9/site-packages/PIL/ImageFile.py?line=252'>253</a>\u001b[0m n, err_code \u001b[39m=\u001b[39m decoder\u001b[39m.\u001b[39;49mdecode(b)\n\u001b[1;32m    <a href='file:///home/fsantiago/projects/medium/bayesiandropout/venv/lib/python3.9/site-packages/PIL/ImageFile.py?line=253'>254</a>\u001b[0m \u001b[39mif\u001b[39;00m n \u001b[39m<\u001b[39m \u001b[39m0\u001b[39m:\n\u001b[1;32m    <a href='file:///home/fsantiago/projects/medium/bayesiandropout/venv/lib/python3.9/site-packages/PIL/ImageFile.py?line=254'>255</a>\u001b[0m     \u001b[39mbreak\u001b[39;00m\n",
      "\u001b[0;31mKeyboardInterrupt\u001b[0m: "
     ]
    }
   ],
   "source": [
    "train_X = [plt.imread(f\"{train_folder}/{file}\") for file in train_files]\n",
    "train_y = [get_y(file) for file in train_files]\n",
    "\n",
    "validation_X = [plt.imread(f\"{train_folder}/{file}\") for file in val_files]\n",
    "validation_y = [get_y(file) for file in val_files]\n",
    "\n",
    "test_X = [plt.imread(f\"{train_folder}/{file}\") for file in test_files]\n",
    "test_y = [get_y(file) for file in test_files]\n",
    "\n",
    "train_mean = np.array([train.mean() for train in train_X]).mean()\n",
    "\n",
    "train_X = [img - train_mean for img in train_X]\n",
    "validation_X = [img - train_mean for img in validation_X]\n",
    "test_X = [img - train_mean for img in test_X]"
   ]
  },
  {
   "cell_type": "code",
   "execution_count": null,
   "metadata": {},
   "outputs": [],
   "source": [
    "batch_size = 1\n",
    "\n",
    "def load_batches_img_folder(folder_path, train_size, batch_size):\n",
    "\n",
    "    files = os.listdir(folder_path)[:train_size]\n",
    "    files_batch = files.copy()\n",
    "    batches = []\n",
    "\n",
    "    while len(files_batch) > 0:\n",
    "        if len(files_batch) < batch_size:\n",
    "            batch = files_batch.copy()\n",
    "        else:\n",
    "            batch = random.sample(files_batch, batch_size)\n",
    "\n",
    "        files_batch = list(filter(lambda x: x not in batch, files_batch))\n",
    "        batches.append(batch)\n",
    "    \n",
    "    return batches\n",
    "\n",
    "\n",
    "def load_batches(folder_path, train_size, batch_size, train_mean):\n",
    "    file_batches = load_batches_img_folder(folder_path, train_size, batch_size)\n",
    "    batches = []\n",
    "\n",
    "    for batch_files in file_batches:\n",
    "        batch = []\n",
    "        y = []\n",
    "        for file in batch_files:\n",
    "            img = plt.imread(f\"{folder_path}/{file}\") - train_mean\n",
    "            y.append(get_y(file))\n",
    "            batch.append(img)\n",
    "\n",
    "        batches.append((np.array(batch), y))\n",
    "\n",
    "    return batches"
   ]
  },
  {
   "cell_type": "code",
   "execution_count": null,
   "metadata": {},
   "outputs": [],
   "source": [
    "### Tests purpose only\n",
    "\n",
    "def test_if_all_files_are_being_used():\n",
    "    file_batches = load_batches_img_folder(train_folder, batch_size)\n",
    "\n",
    "    for i in tqdm(range(1, 50001)):\n",
    "\n",
    "        img_file = f\"{i}.png\"\n",
    "        error = True\n",
    "\n",
    "        for batch in file_batches:\n",
    "            if img_file in batch:\n",
    "                error = False\n",
    "\n",
    "        if error:\n",
    "            print(img_file)\n",
    "            break"
   ]
  },
  {
   "cell_type": "code",
   "execution_count": null,
   "metadata": {},
   "outputs": [],
   "source": [
    "batches = load_batches(train_folder, train_size, batch_size, train_mean)"
   ]
  },
  {
   "cell_type": "code",
   "execution_count": null,
   "metadata": {},
   "outputs": [
    {
     "data": {
      "text/plain": [
       "-0.004947779"
      ]
     },
     "execution_count": 12,
     "metadata": {},
     "output_type": "execute_result"
    }
   ],
   "source": [
    "batches[3][0].mean()"
   ]
  },
  {
   "cell_type": "code",
   "execution_count": null,
   "metadata": {},
   "outputs": [
    {
     "name": "stdout",
     "output_type": "stream",
     "text": [
      "Model: \"model\"\n",
      "_________________________________________________________________\n",
      " Layer (type)                Output Shape              Param #   \n",
      "=================================================================\n",
      " input_1 (InputLayer)        [(None, 32, 32, 3)]       0         \n",
      "                                                                 \n",
      " conv2d (Conv2D)             (None, 32, 32, 64)        1792      \n",
      "                                                                 \n",
      " batch_normalization (BatchN  (None, 32, 32, 64)       256       \n"
     ]
    },
    {
     "name": "stderr",
     "output_type": "stream",
     "text": [
      "2022-03-27 13:05:17.995860: I tensorflow/core/platform/cpu_feature_guard.cc:151] This TensorFlow binary is optimized with oneAPI Deep Neural Network Library (oneDNN) to use the following CPU instructions in performance-critical operations:  AVX2 FMA\n",
      "To enable them in other operations, rebuild TensorFlow with the appropriate compiler flags.\n",
      "2022-03-27 13:05:17.997031: I tensorflow/stream_executor/cuda/cuda_gpu_executor.cc:936] successful NUMA node read from SysFS had negative value (-1), but there must be at least one NUMA node, so returning NUMA node zero\n",
      "2022-03-27 13:05:17.997274: I tensorflow/stream_executor/cuda/cuda_gpu_executor.cc:936] successful NUMA node read from SysFS had negative value (-1), but there must be at least one NUMA node, so returning NUMA node zero\n",
      "2022-03-27 13:05:17.997456: I tensorflow/stream_executor/cuda/cuda_gpu_executor.cc:936] successful NUMA node read from SysFS had negative value (-1), but there must be at least one NUMA node, so returning NUMA node zero\n",
      "2022-03-27 13:05:18.379807: I tensorflow/stream_executor/cuda/cuda_gpu_executor.cc:936] successful NUMA node read from SysFS had negative value (-1), but there must be at least one NUMA node, so returning NUMA node zero\n",
      "2022-03-27 13:05:18.380016: I tensorflow/stream_executor/cuda/cuda_gpu_executor.cc:936] successful NUMA node read from SysFS had negative value (-1), but there must be at least one NUMA node, so returning NUMA node zero\n",
      "2022-03-27 13:05:18.380191: I tensorflow/stream_executor/cuda/cuda_gpu_executor.cc:936] successful NUMA node read from SysFS had negative value (-1), but there must be at least one NUMA node, so returning NUMA node zero\n",
      "2022-03-27 13:05:18.380339: I tensorflow/core/common_runtime/gpu/gpu_device.cc:1525] Created device /job:localhost/replica:0/task:0/device:GPU:0 with 2968 MB memory:  -> device: 0, name: NVIDIA GeForce GTX 960, pci bus id: 0000:06:00.0, compute capability: 5.2\n"
     ]
    },
    {
     "name": "stdout",
     "output_type": "stream",
     "text": [
      " ormalization)                                                   \n",
      "                                                                 \n",
      " activation (Activation)     (None, 32, 32, 64)        0         \n",
      "                                                                 \n",
      " conv2d_1 (Conv2D)           (None, 32, 32, 64)        36928     \n",
      "                                                                 \n",
      " batch_normalization_1 (Batc  (None, 32, 32, 64)       256       \n",
      " hNormalization)                                                 \n",
      "                                                                 \n",
      " activation_1 (Activation)   (None, 32, 32, 64)        0         \n",
      "                                                                 \n",
      " max_pooling2d (MaxPooling2D  (None, 16, 16, 64)       0         \n",
      " )                                                               \n",
      "                                                                 \n",
      " conv2d_2 (Conv2D)           (None, 16, 16, 128)       73856     \n",
      "                                                                 \n",
      " batch_normalization_2 (Batc  (None, 16, 16, 128)      512       \n",
      " hNormalization)                                                 \n",
      "                                                                 \n",
      " activation_2 (Activation)   (None, 16, 16, 128)       0         \n",
      "                                                                 \n",
      " conv2d_3 (Conv2D)           (None, 16, 16, 128)       147584    \n",
      "                                                                 \n",
      " batch_normalization_3 (Batc  (None, 16, 16, 128)      512       \n",
      " hNormalization)                                                 \n",
      "                                                                 \n",
      " activation_3 (Activation)   (None, 16, 16, 128)       0         \n",
      "                                                                 \n",
      " max_pooling2d_1 (MaxPooling  (None, 8, 8, 128)        0         \n",
      " 2D)                                                             \n",
      "                                                                 \n",
      " conv2d_4 (Conv2D)           (None, 8, 8, 256)         295168    \n",
      "                                                                 \n",
      " batch_normalization_4 (Batc  (None, 8, 8, 256)        1024      \n",
      " hNormalization)                                                 \n",
      "                                                                 \n",
      " activation_4 (Activation)   (None, 8, 8, 256)         0         \n",
      "                                                                 \n",
      " conv2d_5 (Conv2D)           (None, 8, 8, 256)         590080    \n",
      "                                                                 \n",
      " batch_normalization_5 (Batc  (None, 8, 8, 256)        1024      \n",
      " hNormalization)                                                 \n",
      "                                                                 \n",
      " activation_5 (Activation)   (None, 8, 8, 256)         0         \n",
      "                                                                 \n",
      " conv2d_6 (Conv2D)           (None, 8, 8, 256)         590080    \n",
      "                                                                 \n",
      " batch_normalization_6 (Batc  (None, 8, 8, 256)        1024      \n",
      " hNormalization)                                                 \n",
      "                                                                 \n",
      " activation_6 (Activation)   (None, 8, 8, 256)         0         \n",
      "                                                                 \n",
      " conv2d_7 (Conv2D)           (None, 8, 8, 256)         590080    \n",
      "                                                                 \n",
      " batch_normalization_7 (Batc  (None, 8, 8, 256)        1024      \n",
      " hNormalization)                                                 \n",
      "                                                                 \n",
      " activation_7 (Activation)   (None, 8, 8, 256)         0         \n",
      "                                                                 \n",
      " max_pooling2d_2 (MaxPooling  (None, 4, 4, 256)        0         \n",
      " 2D)                                                             \n",
      "                                                                 \n",
      " conv2d_8 (Conv2D)           (None, 4, 4, 512)         1180160   \n",
      "                                                                 \n",
      " batch_normalization_8 (Batc  (None, 4, 4, 512)        2048      \n",
      " hNormalization)                                                 \n",
      "                                                                 \n",
      " activation_8 (Activation)   (None, 4, 4, 512)         0         \n",
      "                                                                 \n",
      " conv2d_9 (Conv2D)           (None, 4, 4, 512)         2359808   \n",
      "                                                                 \n",
      " batch_normalization_9 (Batc  (None, 4, 4, 512)        2048      \n",
      " hNormalization)                                                 \n",
      "                                                                 \n",
      " activation_9 (Activation)   (None, 4, 4, 512)         0         \n",
      "                                                                 \n",
      " max_pooling2d_3 (MaxPooling  (None, 2, 2, 512)        0         \n",
      " 2D)                                                             \n",
      "                                                                 \n",
      " flatten (Flatten)           (None, 2048)              0         \n",
      "                                                                 \n",
      " dense (Dense)               (None, 512)               1049088   \n",
      "                                                                 \n",
      " dropout (Dropout)           (None, 512)               0         \n",
      "                                                                 \n",
      " dense_1 (Dense)             (None, 512)               262656    \n",
      "                                                                 \n",
      " dropout_1 (Dropout)         (None, 512)               0         \n",
      "                                                                 \n",
      " dense_2 (Dense)             (None, 32)                16416     \n",
      "                                                                 \n",
      " dropout_2 (Dropout)         (None, 32)                0         \n",
      "                                                                 \n",
      " dense_3 (Dense)             (None, 10)                330       \n",
      "                                                                 \n",
      "=================================================================\n",
      "Total params: 7,203,754\n",
      "Trainable params: 7,198,890\n",
      "Non-trainable params: 4,864\n",
      "_________________________________________________________________\n"
     ]
    }
   ],
   "source": [
    "auto_input = layers.Input(shape=(32, 32, 3))\n",
    "\n",
    "\n",
    "def get_conv_layer(filters, x, kernel_size=(3, 3)):\n",
    "\n",
    "    x = layers.Conv2D(filters, kernel_size=kernel_size, padding=\"same\")(x)\n",
    "    x = layers.BatchNormalization()(x)\n",
    "    x = layers.Activation(\"relu\")(x)\n",
    "\n",
    "    return x\n",
    "\n",
    "def get_conv_layer_2(filters, x, number_of_layers):\n",
    "\n",
    "    for i in range(number_of_layers - 1):\n",
    "        x = layers.Conv2D(filters, kernel_size=(3,3), padding=\"same\")(x)\n",
    "\n",
    "    x = layers.Conv2D(filters, kernel_size=(3,3), strides=(2, 2), padding=\"same\")(x)\n",
    "    return x\n",
    "\n",
    "\n",
    "def get_mini_vgg_19():\n",
    "\n",
    "    x = get_conv_layer(64, auto_input)\n",
    "    x = get_conv_layer(64, x)\n",
    "    x = layers.MaxPooling2D((2, 2), padding=\"same\")(x)\n",
    "\n",
    "    x = get_conv_layer(128, x)\n",
    "    x = get_conv_layer(128, x)\n",
    "    x = layers.MaxPooling2D((2, 2), padding=\"same\")(x)\n",
    "\n",
    "    x = get_conv_layer(256, x)\n",
    "    x = get_conv_layer(256, x)\n",
    "    x = get_conv_layer(256, x)\n",
    "    x = get_conv_layer(256, x)\n",
    "    x = layers.MaxPooling2D((2, 2), padding=\"same\")(x)\n",
    "\n",
    "    x = get_conv_layer(512, x)\n",
    "    x = get_conv_layer(512, x)\n",
    "    x = layers.MaxPooling2D((2, 2), padding=\"same\")(x)\n",
    "\n",
    "    x = layers.Flatten()(x)\n",
    "\n",
    "    x = layers.Dense(1024, activation='relu')(x)\n",
    "    x = layers.Dropout(0.5)(x)\n",
    "    x = layers.Dense(1024, activation='relu')(x)\n",
    "    x = layers.Dropout(0.5)(x)\n",
    "    x = layers.Dense(250, activation='relu')(x)\n",
    "    x = layers.Dropout(0.5)(x)\n",
    "\n",
    "    x = layers.Dense(10, activation='softmax')(x)\n",
    "\n",
    "    return x\n",
    "\n",
    "\n",
    "def get_mini_plain():\n",
    "\n",
    "    x = get_conv_layer(64, auto_input, 3)\n",
    "    x = get_conv_layer(128, x, 4)\n",
    "    x = get_conv_layer(256, x, 6)\n",
    "    x = get_conv_layer(512, x, 2)\n",
    "\n",
    "    x = layers.AveragePooling2D((2, 2), padding=\"same\")(x)\n",
    "\n",
    "    x = layers.Flatten()(x)\n",
    "\n",
    "    x = layers.Dense(1000, activation='relu')(x)\n",
    "    x = layers.Dropout(0.5)(x)\n",
    "\n",
    "    x = layers.Dense(10, activation='softmax')(x)\n",
    "\n",
    "    return x\n",
    "\n",
    "x = get_mini_vgg_19()\n",
    "model = Model(auto_input, x)\n",
    "model.summary()\n"
   ]
  },
  {
   "cell_type": "code",
   "execution_count": null,
   "metadata": {},
   "outputs": [],
   "source": [
    "optimizer = tf.keras.optimizers.Adam()\n",
    "\n",
    "\n",
    "def compute_loss(labels, logits):\n",
    "    loss = tf.keras.losses.categorical_crossentropy(labels, logits)\n",
    "    return loss\n",
    "\n",
    "\n",
    "@tf.function\n",
    "def train_step(x, y): \n",
    "    # Use tf.GradientTape()\n",
    "    with tf.GradientTape() as tape:\n",
    "\n",
    "        y_hat = model(x)      \n",
    "        loss = compute_loss(y, y_hat)\n",
    "       \n",
    "        grads = tape.gradient(loss, model.trainable_variables)\n",
    "        optimizer.apply_gradients(grads_and_vars=zip(grads, model.trainable_variables))\n",
    "               \n",
    "        return loss"
   ]
  },
  {
   "cell_type": "code",
   "execution_count": null,
   "metadata": {},
   "outputs": [
    {
     "name": "stderr",
     "output_type": "stream",
     "text": [
      "2022-03-27 13:05:20.208128: I tensorflow/stream_executor/cuda/cuda_dnn.cc:368] Loaded cuDNN version 8300\n",
      "2022-03-27 13:05:20.564871: I tensorflow/core/platform/default/subprocess.cc:304] Start cannot spawn child process: No such file or directory\n",
      "2022-03-27 13:05:20.889850: W tensorflow/core/common_runtime/bfc_allocator.cc:343] Garbage collection: deallocate free memory regions (i.e., allocations) so that we can re-allocate a larger region to avoid OOM due to memory fragmentation. If you see this message frequently, you are running near the threshold of the available device memory and re-allocation may incur great performance overhead. You may try smaller batch sizes to observe the performance impact. Set TF_ENABLE_GPU_GARBAGE_COLLECTION=false if you'd like to disable this feature.\n"
     ]
    },
    {
     "ename": "KeyboardInterrupt",
     "evalue": "",
     "output_type": "error",
     "traceback": [
      "\u001b[0;31m---------------------------------------------------------------------------\u001b[0m",
      "\u001b[0;31mKeyboardInterrupt\u001b[0m                         Traceback (most recent call last)",
      "\u001b[1;32m/home/fsantiago/projects/medium/bayesiandropout/notebooks/cifar10.ipynb Cell 15'\u001b[0m in \u001b[0;36m<cell line: 4>\u001b[0;34m()\u001b[0m\n\u001b[1;32m      <a href='vscode-notebook-cell:/home/fsantiago/projects/medium/bayesiandropout/notebooks/cifar10.ipynb#ch0000014?line=5'>6</a>\u001b[0m     x_batch, y_batch \u001b[39m=\u001b[39m batch\n\u001b[1;32m      <a href='vscode-notebook-cell:/home/fsantiago/projects/medium/bayesiandropout/notebooks/cifar10.ipynb#ch0000014?line=6'>7</a>\u001b[0m     x_batch \u001b[39m=\u001b[39m np\u001b[39m.\u001b[39marray(x_batch)\n\u001b[0;32m----> <a href='vscode-notebook-cell:/home/fsantiago/projects/medium/bayesiandropout/notebooks/cifar10.ipynb#ch0000014?line=7'>8</a>\u001b[0m     loss \u001b[39m=\u001b[39m train_step(x_batch, y_batch)\n\u001b[1;32m     <a href='vscode-notebook-cell:/home/fsantiago/projects/medium/bayesiandropout/notebooks/cifar10.ipynb#ch0000014?line=9'>10</a>\u001b[0m \u001b[39mif\u001b[39;00m epoch \u001b[39m%\u001b[39m \u001b[39m10\u001b[39m \u001b[39m==\u001b[39m \u001b[39m0\u001b[39m:\n\u001b[1;32m     <a href='vscode-notebook-cell:/home/fsantiago/projects/medium/bayesiandropout/notebooks/cifar10.ipynb#ch0000014?line=10'>11</a>\u001b[0m     val_predictions \u001b[39m=\u001b[39m model\u001b[39m.\u001b[39mpredict(np\u001b[39m.\u001b[39marray(validation_X))\n",
      "File \u001b[0;32m~/projects/medium/bayesiandropout/venv/lib/python3.9/site-packages/tensorflow/python/util/traceback_utils.py:150\u001b[0m, in \u001b[0;36mfilter_traceback.<locals>.error_handler\u001b[0;34m(*args, **kwargs)\u001b[0m\n\u001b[1;32m    <a href='file:///home/fsantiago/projects/medium/bayesiandropout/venv/lib/python3.9/site-packages/tensorflow/python/util/traceback_utils.py?line=147'>148</a>\u001b[0m filtered_tb \u001b[39m=\u001b[39m \u001b[39mNone\u001b[39;00m\n\u001b[1;32m    <a href='file:///home/fsantiago/projects/medium/bayesiandropout/venv/lib/python3.9/site-packages/tensorflow/python/util/traceback_utils.py?line=148'>149</a>\u001b[0m \u001b[39mtry\u001b[39;00m:\n\u001b[0;32m--> <a href='file:///home/fsantiago/projects/medium/bayesiandropout/venv/lib/python3.9/site-packages/tensorflow/python/util/traceback_utils.py?line=149'>150</a>\u001b[0m   \u001b[39mreturn\u001b[39;00m fn(\u001b[39m*\u001b[39;49margs, \u001b[39m*\u001b[39;49m\u001b[39m*\u001b[39;49mkwargs)\n\u001b[1;32m    <a href='file:///home/fsantiago/projects/medium/bayesiandropout/venv/lib/python3.9/site-packages/tensorflow/python/util/traceback_utils.py?line=150'>151</a>\u001b[0m \u001b[39mexcept\u001b[39;00m \u001b[39mException\u001b[39;00m \u001b[39mas\u001b[39;00m e:\n\u001b[1;32m    <a href='file:///home/fsantiago/projects/medium/bayesiandropout/venv/lib/python3.9/site-packages/tensorflow/python/util/traceback_utils.py?line=151'>152</a>\u001b[0m   filtered_tb \u001b[39m=\u001b[39m _process_traceback_frames(e\u001b[39m.\u001b[39m__traceback__)\n",
      "File \u001b[0;32m~/projects/medium/bayesiandropout/venv/lib/python3.9/site-packages/tensorflow/python/eager/def_function.py:915\u001b[0m, in \u001b[0;36mFunction.__call__\u001b[0;34m(self, *args, **kwds)\u001b[0m\n\u001b[1;32m    <a href='file:///home/fsantiago/projects/medium/bayesiandropout/venv/lib/python3.9/site-packages/tensorflow/python/eager/def_function.py?line=911'>912</a>\u001b[0m compiler \u001b[39m=\u001b[39m \u001b[39m\"\u001b[39m\u001b[39mxla\u001b[39m\u001b[39m\"\u001b[39m \u001b[39mif\u001b[39;00m \u001b[39mself\u001b[39m\u001b[39m.\u001b[39m_jit_compile \u001b[39melse\u001b[39;00m \u001b[39m\"\u001b[39m\u001b[39mnonXla\u001b[39m\u001b[39m\"\u001b[39m\n\u001b[1;32m    <a href='file:///home/fsantiago/projects/medium/bayesiandropout/venv/lib/python3.9/site-packages/tensorflow/python/eager/def_function.py?line=913'>914</a>\u001b[0m \u001b[39mwith\u001b[39;00m OptionalXlaContext(\u001b[39mself\u001b[39m\u001b[39m.\u001b[39m_jit_compile):\n\u001b[0;32m--> <a href='file:///home/fsantiago/projects/medium/bayesiandropout/venv/lib/python3.9/site-packages/tensorflow/python/eager/def_function.py?line=914'>915</a>\u001b[0m   result \u001b[39m=\u001b[39m \u001b[39mself\u001b[39;49m\u001b[39m.\u001b[39;49m_call(\u001b[39m*\u001b[39;49margs, \u001b[39m*\u001b[39;49m\u001b[39m*\u001b[39;49mkwds)\n\u001b[1;32m    <a href='file:///home/fsantiago/projects/medium/bayesiandropout/venv/lib/python3.9/site-packages/tensorflow/python/eager/def_function.py?line=916'>917</a>\u001b[0m new_tracing_count \u001b[39m=\u001b[39m \u001b[39mself\u001b[39m\u001b[39m.\u001b[39mexperimental_get_tracing_count()\n\u001b[1;32m    <a href='file:///home/fsantiago/projects/medium/bayesiandropout/venv/lib/python3.9/site-packages/tensorflow/python/eager/def_function.py?line=917'>918</a>\u001b[0m without_tracing \u001b[39m=\u001b[39m (tracing_count \u001b[39m==\u001b[39m new_tracing_count)\n",
      "File \u001b[0;32m~/projects/medium/bayesiandropout/venv/lib/python3.9/site-packages/tensorflow/python/eager/def_function.py:947\u001b[0m, in \u001b[0;36mFunction._call\u001b[0;34m(self, *args, **kwds)\u001b[0m\n\u001b[1;32m    <a href='file:///home/fsantiago/projects/medium/bayesiandropout/venv/lib/python3.9/site-packages/tensorflow/python/eager/def_function.py?line=943'>944</a>\u001b[0m   \u001b[39mself\u001b[39m\u001b[39m.\u001b[39m_lock\u001b[39m.\u001b[39mrelease()\n\u001b[1;32m    <a href='file:///home/fsantiago/projects/medium/bayesiandropout/venv/lib/python3.9/site-packages/tensorflow/python/eager/def_function.py?line=944'>945</a>\u001b[0m   \u001b[39m# In this case we have created variables on the first call, so we run the\u001b[39;00m\n\u001b[1;32m    <a href='file:///home/fsantiago/projects/medium/bayesiandropout/venv/lib/python3.9/site-packages/tensorflow/python/eager/def_function.py?line=945'>946</a>\u001b[0m   \u001b[39m# defunned version which is guaranteed to never create variables.\u001b[39;00m\n\u001b[0;32m--> <a href='file:///home/fsantiago/projects/medium/bayesiandropout/venv/lib/python3.9/site-packages/tensorflow/python/eager/def_function.py?line=946'>947</a>\u001b[0m   \u001b[39mreturn\u001b[39;00m \u001b[39mself\u001b[39;49m\u001b[39m.\u001b[39;49m_stateless_fn(\u001b[39m*\u001b[39;49margs, \u001b[39m*\u001b[39;49m\u001b[39m*\u001b[39;49mkwds)  \u001b[39m# pylint: disable=not-callable\u001b[39;00m\n\u001b[1;32m    <a href='file:///home/fsantiago/projects/medium/bayesiandropout/venv/lib/python3.9/site-packages/tensorflow/python/eager/def_function.py?line=947'>948</a>\u001b[0m \u001b[39melif\u001b[39;00m \u001b[39mself\u001b[39m\u001b[39m.\u001b[39m_stateful_fn \u001b[39mis\u001b[39;00m \u001b[39mnot\u001b[39;00m \u001b[39mNone\u001b[39;00m:\n\u001b[1;32m    <a href='file:///home/fsantiago/projects/medium/bayesiandropout/venv/lib/python3.9/site-packages/tensorflow/python/eager/def_function.py?line=948'>949</a>\u001b[0m   \u001b[39m# Release the lock early so that multiple threads can perform the call\u001b[39;00m\n\u001b[1;32m    <a href='file:///home/fsantiago/projects/medium/bayesiandropout/venv/lib/python3.9/site-packages/tensorflow/python/eager/def_function.py?line=949'>950</a>\u001b[0m   \u001b[39m# in parallel.\u001b[39;00m\n\u001b[1;32m    <a href='file:///home/fsantiago/projects/medium/bayesiandropout/venv/lib/python3.9/site-packages/tensorflow/python/eager/def_function.py?line=950'>951</a>\u001b[0m   \u001b[39mself\u001b[39m\u001b[39m.\u001b[39m_lock\u001b[39m.\u001b[39mrelease()\n",
      "File \u001b[0;32m~/projects/medium/bayesiandropout/venv/lib/python3.9/site-packages/tensorflow/python/eager/function.py:2955\u001b[0m, in \u001b[0;36mFunction.__call__\u001b[0;34m(self, *args, **kwargs)\u001b[0m\n\u001b[1;32m   <a href='file:///home/fsantiago/projects/medium/bayesiandropout/venv/lib/python3.9/site-packages/tensorflow/python/eager/function.py?line=2951'>2952</a>\u001b[0m \u001b[39m\"\"\"Calls a graph function specialized to the inputs.\"\"\"\u001b[39;00m\n\u001b[1;32m   <a href='file:///home/fsantiago/projects/medium/bayesiandropout/venv/lib/python3.9/site-packages/tensorflow/python/eager/function.py?line=2952'>2953</a>\u001b[0m \u001b[39mwith\u001b[39;00m \u001b[39mself\u001b[39m\u001b[39m.\u001b[39m_lock:\n\u001b[1;32m   <a href='file:///home/fsantiago/projects/medium/bayesiandropout/venv/lib/python3.9/site-packages/tensorflow/python/eager/function.py?line=2953'>2954</a>\u001b[0m   (graph_function,\n\u001b[0;32m-> <a href='file:///home/fsantiago/projects/medium/bayesiandropout/venv/lib/python3.9/site-packages/tensorflow/python/eager/function.py?line=2954'>2955</a>\u001b[0m    filtered_flat_args) \u001b[39m=\u001b[39m \u001b[39mself\u001b[39;49m\u001b[39m.\u001b[39;49m_maybe_define_function(args, kwargs)\n\u001b[1;32m   <a href='file:///home/fsantiago/projects/medium/bayesiandropout/venv/lib/python3.9/site-packages/tensorflow/python/eager/function.py?line=2955'>2956</a>\u001b[0m \u001b[39mreturn\u001b[39;00m graph_function\u001b[39m.\u001b[39m_call_flat(\n\u001b[1;32m   <a href='file:///home/fsantiago/projects/medium/bayesiandropout/venv/lib/python3.9/site-packages/tensorflow/python/eager/function.py?line=2956'>2957</a>\u001b[0m     filtered_flat_args, captured_inputs\u001b[39m=\u001b[39mgraph_function\u001b[39m.\u001b[39mcaptured_inputs)\n",
      "File \u001b[0;32m~/projects/medium/bayesiandropout/venv/lib/python3.9/site-packages/tensorflow/python/eager/function.py:3244\u001b[0m, in \u001b[0;36mFunction._maybe_define_function\u001b[0;34m(self, args, kwargs)\u001b[0m\n\u001b[1;32m   <a href='file:///home/fsantiago/projects/medium/bayesiandropout/venv/lib/python3.9/site-packages/tensorflow/python/eager/function.py?line=3219'>3220</a>\u001b[0m \u001b[39m\"\"\"Gets a function for these inputs, defining it if necessary.\u001b[39;00m\n\u001b[1;32m   <a href='file:///home/fsantiago/projects/medium/bayesiandropout/venv/lib/python3.9/site-packages/tensorflow/python/eager/function.py?line=3220'>3221</a>\u001b[0m \n\u001b[1;32m   <a href='file:///home/fsantiago/projects/medium/bayesiandropout/venv/lib/python3.9/site-packages/tensorflow/python/eager/function.py?line=3221'>3222</a>\u001b[0m \u001b[39m`args` and `kwargs` can be None if this `Function` was created with an\u001b[39;00m\n\u001b[0;32m   (...)\u001b[0m\n\u001b[1;32m   <a href='file:///home/fsantiago/projects/medium/bayesiandropout/venv/lib/python3.9/site-packages/tensorflow/python/eager/function.py?line=3239'>3240</a>\u001b[0m \u001b[39m    shape relaxation retracing.\u001b[39;00m\n\u001b[1;32m   <a href='file:///home/fsantiago/projects/medium/bayesiandropout/venv/lib/python3.9/site-packages/tensorflow/python/eager/function.py?line=3240'>3241</a>\u001b[0m \u001b[39m\"\"\"\u001b[39;00m\n\u001b[1;32m   <a href='file:///home/fsantiago/projects/medium/bayesiandropout/venv/lib/python3.9/site-packages/tensorflow/python/eager/function.py?line=3241'>3242</a>\u001b[0m \u001b[39mif\u001b[39;00m \u001b[39mself\u001b[39m\u001b[39m.\u001b[39minput_signature \u001b[39mis\u001b[39;00m \u001b[39mNone\u001b[39;00m \u001b[39mor\u001b[39;00m args \u001b[39mis\u001b[39;00m \u001b[39mnot\u001b[39;00m \u001b[39mNone\u001b[39;00m \u001b[39mor\u001b[39;00m kwargs \u001b[39mis\u001b[39;00m \u001b[39mnot\u001b[39;00m \u001b[39mNone\u001b[39;00m:\n\u001b[1;32m   <a href='file:///home/fsantiago/projects/medium/bayesiandropout/venv/lib/python3.9/site-packages/tensorflow/python/eager/function.py?line=3242'>3243</a>\u001b[0m   args, kwargs, flat_args, filtered_flat_args \u001b[39m=\u001b[39m \\\n\u001b[0;32m-> <a href='file:///home/fsantiago/projects/medium/bayesiandropout/venv/lib/python3.9/site-packages/tensorflow/python/eager/function.py?line=3243'>3244</a>\u001b[0m       \u001b[39mself\u001b[39;49m\u001b[39m.\u001b[39;49m_function_spec\u001b[39m.\u001b[39;49mcanonicalize_function_inputs(\u001b[39m*\u001b[39;49margs, \u001b[39m*\u001b[39;49m\u001b[39m*\u001b[39;49mkwargs)\n\u001b[1;32m   <a href='file:///home/fsantiago/projects/medium/bayesiandropout/venv/lib/python3.9/site-packages/tensorflow/python/eager/function.py?line=3244'>3245</a>\u001b[0m \u001b[39melse\u001b[39;00m:\n\u001b[1;32m   <a href='file:///home/fsantiago/projects/medium/bayesiandropout/venv/lib/python3.9/site-packages/tensorflow/python/eager/function.py?line=3245'>3246</a>\u001b[0m   flat_args, filtered_flat_args \u001b[39m=\u001b[39m [\u001b[39mNone\u001b[39;00m], []\n",
      "File \u001b[0;32m~/projects/medium/bayesiandropout/venv/lib/python3.9/site-packages/tensorflow/python/eager/function.py:2766\u001b[0m, in \u001b[0;36mFunctionSpec.canonicalize_function_inputs\u001b[0;34m(self, *args, **kwargs)\u001b[0m\n\u001b[1;32m   <a href='file:///home/fsantiago/projects/medium/bayesiandropout/venv/lib/python3.9/site-packages/tensorflow/python/eager/function.py?line=2762'>2763</a>\u001b[0m       kwargs\u001b[39m.\u001b[39msetdefault(kwarg, default)\n\u001b[1;32m   <a href='file:///home/fsantiago/projects/medium/bayesiandropout/venv/lib/python3.9/site-packages/tensorflow/python/eager/function.py?line=2764'>2765</a>\u001b[0m \u001b[39mif\u001b[39;00m \u001b[39mself\u001b[39m\u001b[39m.\u001b[39m_input_signature \u001b[39mis\u001b[39;00m \u001b[39mNone\u001b[39;00m:\n\u001b[0;32m-> <a href='file:///home/fsantiago/projects/medium/bayesiandropout/venv/lib/python3.9/site-packages/tensorflow/python/eager/function.py?line=2765'>2766</a>\u001b[0m   inputs, flat_inputs, filtered_flat_inputs \u001b[39m=\u001b[39m _convert_numpy_inputs(inputs)\n\u001b[1;32m   <a href='file:///home/fsantiago/projects/medium/bayesiandropout/venv/lib/python3.9/site-packages/tensorflow/python/eager/function.py?line=2766'>2767</a>\u001b[0m   kwargs, flat_kwargs, filtered_flat_kwargs \u001b[39m=\u001b[39m _convert_numpy_inputs(kwargs)\n\u001b[1;32m   <a href='file:///home/fsantiago/projects/medium/bayesiandropout/venv/lib/python3.9/site-packages/tensorflow/python/eager/function.py?line=2767'>2768</a>\u001b[0m   flat_inputs \u001b[39m+\u001b[39m\u001b[39m=\u001b[39m flat_kwargs\n",
      "File \u001b[0;32m~/projects/medium/bayesiandropout/venv/lib/python3.9/site-packages/tensorflow/python/eager/function.py:2806\u001b[0m, in \u001b[0;36m_convert_numpy_inputs\u001b[0;34m(inputs)\u001b[0m\n\u001b[1;32m   <a href='file:///home/fsantiago/projects/medium/bayesiandropout/venv/lib/python3.9/site-packages/tensorflow/python/eager/function.py?line=2802'>2803</a>\u001b[0m \u001b[39mif\u001b[39;00m \u001b[39mnot\u001b[39;00m \u001b[39misinstance\u001b[39m(a, np\u001b[39m.\u001b[39mndarray):\n\u001b[1;32m   <a href='file:///home/fsantiago/projects/medium/bayesiandropout/venv/lib/python3.9/site-packages/tensorflow/python/eager/function.py?line=2803'>2804</a>\u001b[0m   \u001b[39mraise\u001b[39;00m \u001b[39mTypeError\u001b[39;00m(\u001b[39mf\u001b[39m\u001b[39m\"\u001b[39m\u001b[39mThe output of __array__ must be an np.ndarray, \u001b[39m\u001b[39m\"\u001b[39m\n\u001b[1;32m   <a href='file:///home/fsantiago/projects/medium/bayesiandropout/venv/lib/python3.9/site-packages/tensorflow/python/eager/function.py?line=2804'>2805</a>\u001b[0m                   \u001b[39mf\u001b[39m\u001b[39m\"\u001b[39m\u001b[39mgot \u001b[39m\u001b[39m{\u001b[39;00m\u001b[39mtype\u001b[39m(a)\u001b[39m}\u001b[39;00m\u001b[39m from \u001b[39m\u001b[39m{\u001b[39;00mvalue\u001b[39m}\u001b[39;00m\u001b[39m.\u001b[39m\u001b[39m\"\u001b[39m)\n\u001b[0;32m-> <a href='file:///home/fsantiago/projects/medium/bayesiandropout/venv/lib/python3.9/site-packages/tensorflow/python/eager/function.py?line=2805'>2806</a>\u001b[0m flat_inputs[index] \u001b[39m=\u001b[39m constant_op\u001b[39m.\u001b[39;49mconstant(a)\n\u001b[1;32m   <a href='file:///home/fsantiago/projects/medium/bayesiandropout/venv/lib/python3.9/site-packages/tensorflow/python/eager/function.py?line=2806'>2807</a>\u001b[0m filtered_flat_inputs\u001b[39m.\u001b[39mappend(flat_inputs[index])\n\u001b[1;32m   <a href='file:///home/fsantiago/projects/medium/bayesiandropout/venv/lib/python3.9/site-packages/tensorflow/python/eager/function.py?line=2807'>2808</a>\u001b[0m need_packing \u001b[39m=\u001b[39m \u001b[39mTrue\u001b[39;00m\n",
      "File \u001b[0;32m~/projects/medium/bayesiandropout/venv/lib/python3.9/site-packages/tensorflow/python/framework/constant_op.py:267\u001b[0m, in \u001b[0;36mconstant\u001b[0;34m(value, dtype, shape, name)\u001b[0m\n\u001b[1;32m    <a href='file:///home/fsantiago/projects/medium/bayesiandropout/venv/lib/python3.9/site-packages/tensorflow/python/framework/constant_op.py?line=169'>170</a>\u001b[0m \u001b[39m@tf_export\u001b[39m(\u001b[39m\"\u001b[39m\u001b[39mconstant\u001b[39m\u001b[39m\"\u001b[39m, v1\u001b[39m=\u001b[39m[])\n\u001b[1;32m    <a href='file:///home/fsantiago/projects/medium/bayesiandropout/venv/lib/python3.9/site-packages/tensorflow/python/framework/constant_op.py?line=170'>171</a>\u001b[0m \u001b[39mdef\u001b[39;00m \u001b[39mconstant\u001b[39m(value, dtype\u001b[39m=\u001b[39m\u001b[39mNone\u001b[39;00m, shape\u001b[39m=\u001b[39m\u001b[39mNone\u001b[39;00m, name\u001b[39m=\u001b[39m\u001b[39m\"\u001b[39m\u001b[39mConst\u001b[39m\u001b[39m\"\u001b[39m):\n\u001b[1;32m    <a href='file:///home/fsantiago/projects/medium/bayesiandropout/venv/lib/python3.9/site-packages/tensorflow/python/framework/constant_op.py?line=171'>172</a>\u001b[0m   \u001b[39m\"\"\"Creates a constant tensor from a tensor-like object.\u001b[39;00m\n\u001b[1;32m    <a href='file:///home/fsantiago/projects/medium/bayesiandropout/venv/lib/python3.9/site-packages/tensorflow/python/framework/constant_op.py?line=172'>173</a>\u001b[0m \n\u001b[1;32m    <a href='file:///home/fsantiago/projects/medium/bayesiandropout/venv/lib/python3.9/site-packages/tensorflow/python/framework/constant_op.py?line=173'>174</a>\u001b[0m \u001b[39m  Note: All eager `tf.Tensor` values are immutable (in contrast to\u001b[39;00m\n\u001b[0;32m   (...)\u001b[0m\n\u001b[1;32m    <a href='file:///home/fsantiago/projects/medium/bayesiandropout/venv/lib/python3.9/site-packages/tensorflow/python/framework/constant_op.py?line=264'>265</a>\u001b[0m \u001b[39m    ValueError: if called on a symbolic tensor.\u001b[39;00m\n\u001b[1;32m    <a href='file:///home/fsantiago/projects/medium/bayesiandropout/venv/lib/python3.9/site-packages/tensorflow/python/framework/constant_op.py?line=265'>266</a>\u001b[0m \u001b[39m  \"\"\"\u001b[39;00m\n\u001b[0;32m--> <a href='file:///home/fsantiago/projects/medium/bayesiandropout/venv/lib/python3.9/site-packages/tensorflow/python/framework/constant_op.py?line=266'>267</a>\u001b[0m   \u001b[39mreturn\u001b[39;00m _constant_impl(value, dtype, shape, name, verify_shape\u001b[39m=\u001b[39;49m\u001b[39mFalse\u001b[39;49;00m,\n\u001b[1;32m    <a href='file:///home/fsantiago/projects/medium/bayesiandropout/venv/lib/python3.9/site-packages/tensorflow/python/framework/constant_op.py?line=267'>268</a>\u001b[0m                         allow_broadcast\u001b[39m=\u001b[39;49m\u001b[39mTrue\u001b[39;49;00m)\n",
      "File \u001b[0;32m~/projects/medium/bayesiandropout/venv/lib/python3.9/site-packages/tensorflow/python/framework/constant_op.py:279\u001b[0m, in \u001b[0;36m_constant_impl\u001b[0;34m(value, dtype, shape, name, verify_shape, allow_broadcast)\u001b[0m\n\u001b[1;32m    <a href='file:///home/fsantiago/projects/medium/bayesiandropout/venv/lib/python3.9/site-packages/tensorflow/python/framework/constant_op.py?line=276'>277</a>\u001b[0m     \u001b[39mwith\u001b[39;00m trace\u001b[39m.\u001b[39mTrace(\u001b[39m\"\u001b[39m\u001b[39mtf.constant\u001b[39m\u001b[39m\"\u001b[39m):\n\u001b[1;32m    <a href='file:///home/fsantiago/projects/medium/bayesiandropout/venv/lib/python3.9/site-packages/tensorflow/python/framework/constant_op.py?line=277'>278</a>\u001b[0m       \u001b[39mreturn\u001b[39;00m _constant_eager_impl(ctx, value, dtype, shape, verify_shape)\n\u001b[0;32m--> <a href='file:///home/fsantiago/projects/medium/bayesiandropout/venv/lib/python3.9/site-packages/tensorflow/python/framework/constant_op.py?line=278'>279</a>\u001b[0m   \u001b[39mreturn\u001b[39;00m _constant_eager_impl(ctx, value, dtype, shape, verify_shape)\n\u001b[1;32m    <a href='file:///home/fsantiago/projects/medium/bayesiandropout/venv/lib/python3.9/site-packages/tensorflow/python/framework/constant_op.py?line=280'>281</a>\u001b[0m g \u001b[39m=\u001b[39m ops\u001b[39m.\u001b[39mget_default_graph()\n\u001b[1;32m    <a href='file:///home/fsantiago/projects/medium/bayesiandropout/venv/lib/python3.9/site-packages/tensorflow/python/framework/constant_op.py?line=281'>282</a>\u001b[0m tensor_value \u001b[39m=\u001b[39m attr_value_pb2\u001b[39m.\u001b[39mAttrValue()\n",
      "File \u001b[0;32m~/projects/medium/bayesiandropout/venv/lib/python3.9/site-packages/tensorflow/python/framework/constant_op.py:304\u001b[0m, in \u001b[0;36m_constant_eager_impl\u001b[0;34m(ctx, value, dtype, shape, verify_shape)\u001b[0m\n\u001b[1;32m    <a href='file:///home/fsantiago/projects/medium/bayesiandropout/venv/lib/python3.9/site-packages/tensorflow/python/framework/constant_op.py?line=301'>302</a>\u001b[0m \u001b[39mdef\u001b[39;00m \u001b[39m_constant_eager_impl\u001b[39m(ctx, value, dtype, shape, verify_shape):\n\u001b[1;32m    <a href='file:///home/fsantiago/projects/medium/bayesiandropout/venv/lib/python3.9/site-packages/tensorflow/python/framework/constant_op.py?line=302'>303</a>\u001b[0m   \u001b[39m\"\"\"Creates a constant on the current device.\"\"\"\u001b[39;00m\n\u001b[0;32m--> <a href='file:///home/fsantiago/projects/medium/bayesiandropout/venv/lib/python3.9/site-packages/tensorflow/python/framework/constant_op.py?line=303'>304</a>\u001b[0m   t \u001b[39m=\u001b[39m convert_to_eager_tensor(value, ctx, dtype)\n\u001b[1;32m    <a href='file:///home/fsantiago/projects/medium/bayesiandropout/venv/lib/python3.9/site-packages/tensorflow/python/framework/constant_op.py?line=304'>305</a>\u001b[0m   \u001b[39mif\u001b[39;00m shape \u001b[39mis\u001b[39;00m \u001b[39mNone\u001b[39;00m:\n\u001b[1;32m    <a href='file:///home/fsantiago/projects/medium/bayesiandropout/venv/lib/python3.9/site-packages/tensorflow/python/framework/constant_op.py?line=305'>306</a>\u001b[0m     \u001b[39mreturn\u001b[39;00m t\n",
      "File \u001b[0;32m~/projects/medium/bayesiandropout/venv/lib/python3.9/site-packages/tensorflow/python/framework/constant_op.py:102\u001b[0m, in \u001b[0;36mconvert_to_eager_tensor\u001b[0;34m(value, ctx, dtype)\u001b[0m\n\u001b[1;32m    <a href='file:///home/fsantiago/projects/medium/bayesiandropout/venv/lib/python3.9/site-packages/tensorflow/python/framework/constant_op.py?line=99'>100</a>\u001b[0m     dtype \u001b[39m=\u001b[39m dtypes\u001b[39m.\u001b[39mas_dtype(dtype)\u001b[39m.\u001b[39mas_datatype_enum\n\u001b[1;32m    <a href='file:///home/fsantiago/projects/medium/bayesiandropout/venv/lib/python3.9/site-packages/tensorflow/python/framework/constant_op.py?line=100'>101</a>\u001b[0m ctx\u001b[39m.\u001b[39mensure_initialized()\n\u001b[0;32m--> <a href='file:///home/fsantiago/projects/medium/bayesiandropout/venv/lib/python3.9/site-packages/tensorflow/python/framework/constant_op.py?line=101'>102</a>\u001b[0m \u001b[39mreturn\u001b[39;00m ops\u001b[39m.\u001b[39;49mEagerTensor(value, ctx\u001b[39m.\u001b[39;49mdevice_name, dtype)\n",
      "\u001b[0;31mKeyboardInterrupt\u001b[0m: "
     ]
    }
   ],
   "source": [
    "epochs = 100\n",
    "_batches = batches\n",
    "\n",
    "for epoch in range(epochs):\n",
    "    for batch in _batches:\n",
    "        x_batch, y_batch = batch\n",
    "        x_batch = np.array(x_batch)\n",
    "        loss = train_step(x_batch, y_batch)\n",
    "\n",
    "    if epoch % 10 == 0:\n",
    "        val_predictions = model.predict(np.array(validation_X))\n",
    "        train_predictions = model.predict(np.array(train_X))\n",
    "\n",
    "        train_predictions = list(map(lambda x: x[0], one_hot.inverse_transform(train_predictions)))\n",
    "        train_labels = list(map(lambda x: x[0], one_hot.inverse_transform(train_y)))\n",
    "\n",
    "        val_predictions = list(map(lambda x: x[0], one_hot.inverse_transform(val_predictions)))\n",
    "        val_labels = list(map(lambda x: x[0], one_hot.inverse_transform(validation_y)))\n",
    "        \n",
    "        train_acc = accuracy_score(train_labels, train_predictions)\n",
    "        val_acc = accuracy_score(val_labels, val_predictions)\n",
    "\n",
    "        print(f\"{epoch} of {epochs} => Train accuracy: {train_acc} | Validation accuracy: {val_acc}\")\n"
   ]
  },
  {
   "cell_type": "code",
   "execution_count": null,
   "metadata": {},
   "outputs": [],
   "source": [
    "batch = 1400\n",
    "img = 10\n",
    "\n",
    "val_predictions = model.predict(np.array(validation_X))\n",
    "test_predictions = model.predict(np.array(test_X))"
   ]
  },
  {
   "cell_type": "code",
   "execution_count": null,
   "metadata": {},
   "outputs": [],
   "source": [
    "val_predictions = list(map(lambda x: x[0], one_hot.inverse_transform(val_predictions)))\n",
    "val_labels = list(map(lambda x: x[0], one_hot.inverse_transform(validation_y)))\n",
    "\n",
    "test_predictions = list(map(lambda x: x[0], one_hot.inverse_transform(test_predictions)))\n",
    "test_labels = list(map(lambda x: x[0], one_hot.inverse_transform(test_y)))"
   ]
  },
  {
   "cell_type": "code",
   "execution_count": null,
   "metadata": {},
   "outputs": [
    {
     "data": {
      "text/plain": [
       "0.6923"
      ]
     },
     "execution_count": 24,
     "metadata": {},
     "output_type": "execute_result"
    }
   ],
   "source": [
    "accuracy_score(test_labels, test_predictions)"
   ]
  },
  {
   "cell_type": "code",
   "execution_count": null,
   "metadata": {},
   "outputs": [
    {
     "data": {
      "text/plain": [
       "0.6854"
      ]
     },
     "execution_count": 25,
     "metadata": {},
     "output_type": "execute_result"
    }
   ],
   "source": [
    "accuracy_score(val_labels, val_predictions)"
   ]
  },
  {
   "cell_type": "code",
   "execution_count": null,
   "metadata": {},
   "outputs": [
    {
     "data": {
      "text/html": [
       "<div>\n",
       "<style scoped>\n",
       "    .dataframe tbody tr th:only-of-type {\n",
       "        vertical-align: middle;\n",
       "    }\n",
       "\n",
       "    .dataframe tbody tr th {\n",
       "        vertical-align: top;\n",
       "    }\n",
       "\n",
       "    .dataframe thead th {\n",
       "        text-align: right;\n",
       "    }\n",
       "</style>\n",
       "<table border=\"1\" class=\"dataframe\">\n",
       "  <thead>\n",
       "    <tr style=\"text-align: right;\">\n",
       "      <th></th>\n",
       "      <th>0</th>\n",
       "    </tr>\n",
       "    <tr>\n",
       "      <th>a</th>\n",
       "      <th></th>\n",
       "    </tr>\n",
       "  </thead>\n",
       "  <tbody>\n",
       "    <tr>\n",
       "      <th>airplane</th>\n",
       "      <td>2997</td>\n",
       "    </tr>\n",
       "    <tr>\n",
       "      <th>automobile</th>\n",
       "      <td>2997</td>\n",
       "    </tr>\n",
       "    <tr>\n",
       "      <th>bird</th>\n",
       "      <td>2939</td>\n",
       "    </tr>\n",
       "    <tr>\n",
       "      <th>cat</th>\n",
       "      <td>2982</td>\n",
       "    </tr>\n",
       "    <tr>\n",
       "      <th>deer</th>\n",
       "      <td>3037</td>\n",
       "    </tr>\n",
       "    <tr>\n",
       "      <th>dog</th>\n",
       "      <td>2986</td>\n",
       "    </tr>\n",
       "    <tr>\n",
       "      <th>frog</th>\n",
       "      <td>3038</td>\n",
       "    </tr>\n",
       "    <tr>\n",
       "      <th>horse</th>\n",
       "      <td>2967</td>\n",
       "    </tr>\n",
       "    <tr>\n",
       "      <th>ship</th>\n",
       "      <td>3029</td>\n",
       "    </tr>\n",
       "    <tr>\n",
       "      <th>truck</th>\n",
       "      <td>3028</td>\n",
       "    </tr>\n",
       "  </tbody>\n",
       "</table>\n",
       "</div>"
      ],
      "text/plain": [
       "               0\n",
       "a               \n",
       "airplane    2997\n",
       "automobile  2997\n",
       "bird        2939\n",
       "cat         2982\n",
       "deer        3037\n",
       "dog         2986\n",
       "frog        3038\n",
       "horse       2967\n",
       "ship        3029\n",
       "truck       3028"
      ]
     },
     "execution_count": 26,
     "metadata": {},
     "output_type": "execute_result"
    }
   ],
   "source": [
    "df = pd.DataFrame(train_labels)\n",
    "df[\"a\"] = df[0]\n",
    "df.groupby(\"a\").count()"
   ]
  },
  {
   "cell_type": "code",
   "execution_count": null,
   "metadata": {},
   "outputs": [],
   "source": []
  }
 ],
 "metadata": {
  "interpreter": {
   "hash": "31f2aee4e71d21fbe5cf8b01ff0e069b9275f58929596ceb00d14d90e3e16cd6"
  },
  "kernelspec": {
   "display_name": "Python 3.9.5 64-bit",
   "language": "python",
   "name": "python3"
  },
  "language_info": {
   "codemirror_mode": {
    "name": "ipython",
    "version": 3
   },
   "file_extension": ".py",
   "mimetype": "text/x-python",
   "name": "python",
   "nbconvert_exporter": "python",
   "pygments_lexer": "ipython3",
   "version": "3.9.5"
  },
  "orig_nbformat": 4
 },
 "nbformat": 4,
 "nbformat_minor": 2
}
